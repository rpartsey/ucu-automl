{
 "cells": [
  {
   "cell_type": "markdown",
   "metadata": {},
   "source": [
    "# Exercise 1\n",
    "\n",
    "- We will work with the `diabetes` data in scikit-learn (via the `load_diabetes`) function.\n",
    "- Compare three methods for hyperparameter optimization for `RandomForestRegressor` with hyperparameters `max_depth`, `n_estimators`, `max_features`.\n",
    "\t- *Hint:* You should write a function that takes a 3-dimensional array and returns a scalar /1-d arrray.\n",
    "- To compare the methods, plot the number of iterations against the loss (negative MSE). \n",
    "- Methods to compare: \t\n",
    "\t- Random Search (`RandomizedSearchCV`).\n",
    "\t- Grid Search (`GridSearchCV`).\n",
    "\t- Bayesian Optimization using GPy/GPyOpt.\n",
    "\t- Extra: Another black-box method (i.e. cross-entropy method, genetic algorithm, simulated annealing).\n",
    "\t\n",
    "`n_estimators`: The number of trees in the forest.<br>\n",
    "`max_depth`: The maximum depth of the tree.<br>\n",
    "`max_features`: The number of features to consider when looking for the best split.<br>"
   ]
  },
  {
   "cell_type": "code",
   "execution_count": 8,
   "metadata": {},
   "outputs": [],
   "source": [
    "import numpy as np\n",
    "import matplotlib.pyplot as plt\n",
    "from sklearn.datasets import load_diabetes\n",
    "from sklearn.ensemble import RandomForestRegressor\n",
    "from sklearn.model_selection import cross_val_score\n",
    "from sklearn.model_selection import GridSearchCV, RandomizedSearchCV\n",
    "import GPy\n",
    "import GPyOpt\n",
    "from GPyOpt.methods import BayesianOptimization\n",
    "from GPyOpt.methods import BayesianOptimization\n",
    "from scipy.stats import randint\n",
    "\n",
    "%matplotlib inline"
   ]
  },
  {
   "cell_type": "code",
   "execution_count": 5,
   "metadata": {},
   "outputs": [],
   "source": [
    "X, y = load_diabetes(return_X_y=True)"
   ]
  },
  {
   "cell_type": "code",
   "execution_count": 21,
   "metadata": {},
   "outputs": [],
   "source": [
    "regressor = RandomForestRegressor()"
   ]
  },
  {
   "cell_type": "code",
   "execution_count": 25,
   "metadata": {},
   "outputs": [
    {
     "data": {
      "text/plain": [
       "GridSearchCV(estimator=RandomForestRegressor(),\n",
       "             param_grid={'max_depth': array([ 2,  6, 10, 14, 18]),\n",
       "                         'max_features': array([1, 3, 5, 7, 9]),\n",
       "                         'n_estimators': array([ 1,  8, 15, 22, 29, 36, 43])},\n",
       "             scoring='neg_mean_squared_error')"
      ]
     },
     "execution_count": 25,
     "metadata": {},
     "output_type": "execute_result"
    }
   ],
   "source": [
    "# Grid Search\n",
    "param_grid = {\n",
    "    'n_estimators': np.arange(1, 50, 7),\n",
    "    'max_depth': np.arange(2, 20, 4),\n",
    "    'max_features': np.arange(1, 10, 2)\n",
    "}\n",
    "grid_search = GridSearchCV(\n",
    "    regressor, \n",
    "    param_grid=param_grid, \n",
    "    scoring='neg_mean_squared_error'\n",
    ")\n",
    "grid_search.fit(X,y)"
   ]
  },
  {
   "cell_type": "code",
   "execution_count": 26,
   "metadata": {},
   "outputs": [
    {
     "data": {
      "text/plain": [
       "RandomizedSearchCV(estimator=RandomForestRegressor(), n_iter=175,\n",
       "                   param_distributions={'max_depth': <scipy.stats._distn_infrastructure.rv_frozen object at 0x7f34189aa0d0>,\n",
       "                                        'max_features': <scipy.stats._distn_infrastructure.rv_frozen object at 0x7f34186aca60>,\n",
       "                                        'n_estimators': <scipy.stats._distn_infrastructure.rv_frozen object at 0x7f34186ac100>},\n",
       "                   scoring='neg_mean_squared_error')"
      ]
     },
     "execution_count": 26,
     "metadata": {},
     "output_type": "execute_result"
    }
   ],
   "source": [
    "# Random Search\n",
    "param_dist = {\n",
    "    'n_estimators': randint(1, 50),\n",
    "    'max_depth': randint(2, 20),\n",
    "    'max_features': randint(1, 10)\n",
    "}\n",
    "randomized_search = RandomizedSearchCV(\n",
    "    regressor, \n",
    "    param_distributions=param_dist, \n",
    "    scoring='neg_mean_squared_error', \n",
    "    n_iter=175 # product of the param_grid array lengths\n",
    ")\n",
    "randomized_search.fit(X,y)"
   ]
  },
  {
   "cell_type": "code",
   "execution_count": 27,
   "metadata": {},
   "outputs": [],
   "source": [
    "# Bayesian Optimization\n",
    "def L(x):\n",
    "    n_estimators, max_depth, max_features = x[0].astype(int)\n",
    "    regressor = RandomForestRegressor(\n",
    "        n_estimators=n_estimators,\n",
    "        max_depth=max_depth,\n",
    "        max_features=max_features\n",
    "    )\n",
    "    regressor.fit(X, y)\n",
    "    score = cross_val_score(regressor, X, y, scoring='neg_mean_squared_error', cv=5).mean() \n",
    "    return score\n",
    "\n",
    "bds = [\n",
    "    {\n",
    "        'name': 'n_estimators', \n",
    "        'type': 'discrete', \n",
    "        'domain': (1, 50)\n",
    "    },\n",
    "    {\n",
    "        'name': 'max_depth', \n",
    "        'type': 'discrete', \n",
    "        'domain': (2, 20)\n",
    "    },\n",
    "    {\n",
    "        'name': 'max_features', \n",
    "        'type': 'discrete', \n",
    "        'domain': (1, 10)\n",
    "    }\n",
    "\n",
    "]\n",
    "\n",
    "optimizer = BayesianOptimization(f=L, model_type='GP', acquisition_type='EI', domain=bds, maximize=True)\n",
    "optimizer.run_optimization(max_iter=175)"
   ]
  },
  {
   "cell_type": "code",
   "execution_count": 29,
   "metadata": {},
   "outputs": [
    {
     "data": {
      "image/png": "[encoded data removed]",
      "text/plain": [
       "<Figure size 432x432 with 1 Axes>"
      ]
     },
     "metadata": {
      "needs_background": "light"
     },
     "output_type": "display_data"
    }
   ],
   "source": [
    "y_rs = np.maximum.accumulate(randomized_search.cv_results_['mean_test_score'])\n",
    "y_gs = np.maximum.accumulate(grid_search.cv_results_['mean_test_score'])\n",
    "y_bo = np.maximum.accumulate(-optimizer.Y).ravel()\n",
    "\n",
    "plt.figure(figsize=(6,6))\n",
    "plt.plot(y_rs, 'ro', label='Random Search')\n",
    "plt.plot(y_gs, 'bo', label='Grid Search')\n",
    "plt.plot(y_bo, 'go', label='Bayesian Optimization')\n",
    "plt.xlabel('Iteration')\n",
    "plt.ylabel('Negative MSE')\n",
    "plt.legend(loc='lower right');"
   ]
  },
  {
   "cell_type": "code",
   "execution_count": null,
   "metadata": {},
   "outputs": [],
   "source": []
  }
 ],
 "metadata": {
  "kernelspec": {
   "display_name": "Python 3",
   "language": "python",
   "name": "python3"
  },
  "language_info": {
   "codemirror_mode": {
    "name": "ipython",
    "version": 3
   },
   "file_extension": ".py",
   "mimetype": "text/x-python",
   "name": "python",
   "nbconvert_exporter": "python",
   "pygments_lexer": "ipython3",
   "version": "3.8.2"
  }
 },
 "nbformat": 4,
 "nbformat_minor": 4
}
